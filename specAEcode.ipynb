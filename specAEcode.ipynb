{
 "cells": [
  {
   "cell_type": "code",
   "execution_count": 2,
   "metadata": {},
   "outputs": [],
   "source": [
    "import hf00\n",
    "import torch.nn as nn\n",
    "import torch.optim as optim\n",
    "from torch.utils.data import Dataset, DataLoader\n",
    "import numpy as np\n",
    "from IPython.display import display, Audio\n",
    "import os\n",
    "import torchaudio.transforms as T\n",
    "import librosa\n",
    "import pandas as pd\n",
    "import torch"
   ]
  },
  {
   "cell_type": "code",
   "execution_count": 3,
   "metadata": {},
   "outputs": [],
   "source": [
    "aud_sample = '../../LibriVox_Kaggle/achtgesichterambiwasse/achtgesichterambiwasse_0050.wav'\n",
    "spectro_fn = T.Spectrogram(power=None)\n",
    "inv_spectro_fn = T.InverseSpectrogram()\n",
    "\n",
    "audio, label = hf00.get_random_audio_sec(aud_sample)\n",
    "\n",
    "aud_spec = spectro_fn(audio)\n",
    "label_spec = spectro_fn(label)\n",
    "aud_new = inv_spectro_fn(aud_spec)"
   ]
  },
  {
   "cell_type": "code",
   "execution_count": 4,
   "metadata": {},
   "outputs": [
    {
     "data": {
      "text/plain": [
       "(torch.Size([1, 201, 81]), torch.Size([1, 201, 81]))"
      ]
     },
     "execution_count": 4,
     "metadata": {},
     "output_type": "execute_result"
    }
   ],
   "source": [
    "aud_spec.shape, label_spec.shape"
   ]
  },
  {
   "cell_type": "code",
   "execution_count": 5,
   "metadata": {},
   "outputs": [],
   "source": [
    "class audioDataset(Dataset):\n",
    "\n",
    "    def __init__(self, audio_df, audio_dir):\n",
    "        #self.audio_df = pd.read_csv(audio_csvfile)\n",
    "        self.audio_df = audio_df\n",
    "        self.audio_dir = audio_dir\n",
    "\n",
    "    def __len__(self):\n",
    "        return len(self.audio_df)\n",
    "    \n",
    "    def __getitem__(self, index):\n",
    "        audio_path = os.path.join(self.audio_dir, self.audio_df.iloc[index, 0])\n",
    "\n",
    "        audio, label = hf00.get_random_audio_sec(audio_path)\n",
    "\n",
    "        audio_spec = spectro_fn(audio)\n",
    "        label_spec = spectro_fn(label)\n",
    "\n",
    "        return audio_spec.real, label_spec.real"
   ]
  },
  {
   "cell_type": "code",
   "execution_count": 6,
   "metadata": {},
   "outputs": [],
   "source": [
    "aud_dir = '../../LibriVox_Kaggle/'\n",
    "train_df = pd.read_csv('only_audioFname_train.csv')\n",
    "test_df = pd.read_csv('only_audioFname_test.csv')\n",
    "\n",
    "train_df = train_df[0:2000]\n",
    "test_df = test_df[0:500]\n",
    "\n",
    "train_dataset = audioDataset(train_df,audio_dir=aud_dir)\n",
    "test_dataset = audioDataset(test_df,audio_dir=aud_dir)\n",
    "train_dataloader = DataLoader(train_dataset, batch_size=32, shuffle=True)\n",
    "test_dataloader = DataLoader(test_dataset, batch_size=32, shuffle=True)"
   ]
  },
  {
   "cell_type": "code",
   "execution_count": 25,
   "metadata": {},
   "outputs": [
    {
     "data": {
      "text/plain": [
       "(torch.Size([1, 1, 201, 81]),\n",
       " torch.Size([1, 8, 51, 21]),\n",
       " torch.Size([1, 1, 201, 81]))"
      ]
     },
     "execution_count": 25,
     "metadata": {},
     "output_type": "execute_result"
    }
   ],
   "source": [
    "x = torch.randn(aud_spec.unsqueeze(0).shape)\n",
    "\n",
    "enc = nn.Sequential(\n",
    "    nn.Conv2d(1, 64, kernel_size=3, stride=1, padding=1),\n",
    "    nn.LeakyReLU(),\n",
    "    nn.Conv2d(64, 32, kernel_size=3, stride=2,padding=1),\n",
    "    nn.LeakyReLU(),\n",
    "    nn.Conv2d(32, 16, kernel_size=3, stride=2,padding=1),\n",
    "    nn.LeakyReLU(),\n",
    "    nn.Conv2d(16, 8, kernel_size=3, stride=1,padding=1),\n",
    "    #nn.LeakyReLU()\n",
    "    )\n",
    "\n",
    "dec = nn.Sequential(\n",
    "    nn.ConvTranspose2d(8, 16, kernel_size=3, stride=1, padding=1),\n",
    "    nn.LeakyReLU(),\n",
    "    nn.ConvTranspose2d(16, 32, kernel_size=3, stride=2,padding=1),\n",
    "    nn.LeakyReLU(),\n",
    "    nn.ConvTranspose2d(32, 64, kernel_size=3, stride=2,padding=1),\n",
    "    nn.LeakyReLU(),\n",
    "    nn.ConvTranspose2d(64, 1, kernel_size=3, stride=1,padding=1),\n",
    "    nn.LeakyReLU(),\n",
    "    \n",
    "    nn.Sigmoid()\n",
    ")\n",
    "\n",
    "enc_x = enc(x)\n",
    "x.shape, enc_x.shape, dec(enc_x).shape"
   ]
  }
 ],
 "metadata": {
  "kernelspec": {
   "display_name": "noiseremoval",
   "language": "python",
   "name": "python3"
  },
  "language_info": {
   "codemirror_mode": {
    "name": "ipython",
    "version": 3
   },
   "file_extension": ".py",
   "mimetype": "text/x-python",
   "name": "python",
   "nbconvert_exporter": "python",
   "pygments_lexer": "ipython3",
   "version": "3.11.5"
  }
 },
 "nbformat": 4,
 "nbformat_minor": 2
}
